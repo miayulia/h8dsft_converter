{
  "nbformat": 4,
  "nbformat_minor": 0,
  "metadata": {
    "colab": {
      "provenance": []
    },
    "kernelspec": {
      "name": "python3",
      "display_name": "Python 3"
    },
    "language_info": {
      "name": "python"
    }
  },
  "cells": [
    {
      "cell_type": "code",
      "execution_count": null,
      "metadata": {
        "colab": {
          "base_uri": "https://localhost:8080/"
        },
        "id": "WrgWdowdL7lI",
        "outputId": "226bdc55-8d69-4b1f-9817-7230319a487c"
      },
      "outputs": [
        {
          "output_type": "stream",
          "name": "stdout",
          "text": [
            "hasilnya adalah : -73 C\n"
          ]
        }
      ],
      "source": [
        "def kelvin_to_celcius(kelvin):\n",
        "  celcius = kelvin - 273\n",
        "  print('hasilnya adalah :', celcius, 'C')\n",
        "\n",
        "kelvin_to_celcius(200)"
      ]
    },
    {
      "cell_type": "code",
      "source": [
        "def celcius_to_kelvin(celcius):\n",
        "  kelvin = celcius + 273\n",
        "  print('hasilnya adalah :', kelvin, 'K')\n",
        "celcius_to_kelvin(200)"
      ],
      "metadata": {
        "colab": {
          "base_uri": "https://localhost:8080/"
        },
        "id": "LRj6b9KYMjC9",
        "outputId": "8ca6a9eb-3046-4e0f-9722-03dc50b3b44f"
      },
      "execution_count": null,
      "outputs": [
        {
          "output_type": "stream",
          "name": "stdout",
          "text": [
            "hasilnya adalah : 473 K\n"
          ]
        }
      ]
    },
    {
      "cell_type": "code",
      "source": [
        "def suhu_to_f(mode, suhu):\n",
        "  if mode == 'kelvin': \n",
        "    hasil = (9/5 * suhu) + 32\n",
        "    print('hasil :', hasil, 'K')\n",
        "  elif mode == 'celcius':\n",
        "    hasil = (5/9 * suhu) - 32\n",
        "    print('hasil :', hasil, 'C')\n",
        "  \n",
        "suhu_to_f('celcius', 20)\n",
        "suhu_to_f('kelvin', 20)"
      ],
      "metadata": {
        "colab": {
          "base_uri": "https://localhost:8080/"
        },
        "id": "1ZomhBYgNSkV",
        "outputId": "0c79d949-d857-4ea8-c6b4-2cd3cadc1ba5"
      },
      "execution_count": null,
      "outputs": [
        {
          "output_type": "stream",
          "name": "stdout",
          "text": [
            "hasil : -20.88888888888889 C\n",
            "hasil : 68.0 K\n"
          ]
        }
      ]
    },
    {
      "cell_type": "code",
      "source": [],
      "metadata": {
        "id": "7GsyowY8QbWI"
      },
      "execution_count": null,
      "outputs": []
    }
  ]
}